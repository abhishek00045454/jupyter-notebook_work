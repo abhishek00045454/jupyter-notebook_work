{
 "cells": [
  {
   "cell_type": "code",
   "execution_count": 2,
   "id": "08d8d6b6",
   "metadata": {},
   "outputs": [],
   "source": [
    "import pandas as pd"
   ]
  },
  {
   "cell_type": "code",
   "execution_count": 7,
   "id": "93b3bb87",
   "metadata": {},
   "outputs": [
    {
     "name": "stdout",
     "output_type": "stream",
     "text": [
      " Volume in drive C has no label.\n",
      " Volume Serial Number is 389F-0762\n",
      "\n",
      " Directory of C:\\Users\\Yaksha\\Desktop\\abhi.cpp\\Untitled Folder\n",
      "\n",
      "12-01-2023  18:37    <DIR>          .\n",
      "12-01-2023  18:37    <DIR>          ..\n",
      "12-01-2023  18:37    <DIR>          .ipynb_checkpoints\n",
      "06-12-2022  00:16    <DIR>          __pycache__\n",
      "08-01-2023  00:00         4,407,102 19.3 MongoDB.7z\n",
      "10-01-2023  12:33             8,192 abhisheksaini_44\n",
      "12-01-2023  02:00               183 Book1.csv\n",
      "29-12-2022  19:12           879,767 gamer.txt\n",
      "10-01-2023  00:07             3,066 mongo1.ipynb\n",
      "09-01-2023  23:47            14,670 mongodb2.ipynb\n",
      "29-12-2022  19:08           875,693 movies.sql\n",
      "06-12-2022  00:16               283 my_module.py\n",
      "04-01-2023  19:25           102,584 mysql_1.ipynb\n",
      "29-12-2022  19:08            93,626 mysql_2.ipynb\n",
      "27-12-2022  21:28            24,252 MYSQLWORKSPACE_1.ipynb\n",
      "27-12-2022  23:44            11,381 MYSQLWORKSPACE_2.ipynb\n",
      "10-01-2023  14:29             1,010 NEW_RECORD_1.sql\n",
      "03-01-2023  11:15               339 NEW_RECORD_10.sql\n",
      "05-01-2023  22:55             1,441 NEW_RECORD_11.sql\n",
      "10-01-2023  14:29               772 NEW_RECORD_12.sql\n",
      "31-12-2022  19:23               367 NEW_RECORD_2.sql\n",
      "05-01-2023  19:05               249 NEW_RECORD_3.sql\n",
      "03-01-2023  19:17               718 NEW_RECORD_4.sql\n",
      "01-01-2023  15:37               339 NEW_RECORD_5.sql\n",
      "01-01-2023  17:15               229 NEW_RECORD_6.sql\n",
      "01-01-2023  23:58               502 NEW_RECORD_7.sql\n",
      "02-01-2023  00:15               166 NEW_RECORD_78.sql\n",
      "10-01-2023  14:29               189 NEW_RECORD_786.sql\n",
      "03-01-2023  00:13               405 NEW_RECORD_8.sql\n",
      "03-01-2023  11:00               260 NEW_RECORD_9.sql\n",
      "04-01-2023  19:41           121,143 order detail.csv\n",
      "04-01-2023  19:33           121,143 order detail.txt\n",
      "10-01-2023  14:19                 0 peron.db\n",
      "10-01-2023  13:38             8,192 person.db\n",
      "04-01-2023  20:59             3,014 product.csv\n",
      "11-01-2023  19:26            31,683 sqllite.ipynb\n",
      "03-01-2023  00:03           875,693 SWIGGY.SQL\n",
      "11-12-2022  11:39               609 test.log\n",
      "11-12-2022  11:31                 0 test.py\n",
      "05-12-2022  23:38                 0 test08.txt\n",
      "05-12-2022  23:45                99 test1.py\n",
      "05-12-2022  23:41                98 test1.txt\n",
      "08-01-2023  00:53            15,715 Untitled.ipynb\n",
      "10-01-2023  00:09            15,794 Untitled1.ipynb\n",
      "12-01-2023  18:37                72 Untitled2.ipynb\n",
      "              41 File(s)      7,621,040 bytes\n",
      "               4 Dir(s)  18,234,699,776 bytes free\n"
     ]
    }
   ],
   "source": [
    "ls"
   ]
  }
 ],
 "metadata": {
  "kernelspec": {
   "display_name": "Python 3 (ipykernel)",
   "language": "python",
   "name": "python3"
  },
  "language_info": {
   "codemirror_mode": {
    "name": "ipython",
    "version": 3
   },
   "file_extension": ".py",
   "mimetype": "text/x-python",
   "name": "python",
   "nbconvert_exporter": "python",
   "pygments_lexer": "ipython3",
   "version": "3.9.12"
  }
 },
 "nbformat": 4,
 "nbformat_minor": 5
}
