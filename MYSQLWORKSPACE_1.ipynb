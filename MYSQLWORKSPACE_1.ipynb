{
 "cells": [
  {
   "cell_type": "code",
   "execution_count": 11,
   "id": "9e195a28",
   "metadata": {},
   "outputs": [],
   "source": [
    "import mysql.connector as conn"
   ]
  },
  {
   "cell_type": "code",
   "execution_count": 12,
   "id": "99081ae8",
   "metadata": {},
   "outputs": [],
   "source": [
    "mydb=conn.connect(host=\"localhost\",user=\"root\",passwd=\"abhiA55-66\")"
   ]
  },
  {
   "cell_type": "code",
   "execution_count": 13,
   "id": "6ff9c787",
   "metadata": {},
   "outputs": [],
   "source": [
    "cursor=mydb.cursor()"
   ]
  },
  {
   "cell_type": "code",
   "execution_count": 4,
   "id": "fc356997",
   "metadata": {},
   "outputs": [],
   "source": [
    "cursor.execute('show databases')"
   ]
  },
  {
   "cell_type": "code",
   "execution_count": 5,
   "id": "dba0f62b",
   "metadata": {},
   "outputs": [
    {
     "data": {
      "text/plain": [
       "[('abhishek1',),\n",
       " ('abhishek22',),\n",
       " ('abhisheksaini11',),\n",
       " ('abhisheksainiop',),\n",
       " ('abhisheksainiopal',),\n",
       " ('information_schema',),\n",
       " ('myschoolfirendinfo',),\n",
       " ('mysql',),\n",
       " ('performance_schema',),\n",
       " ('sys',),\n",
       " ('test1',),\n",
       " ('test_',),\n",
       " ('test_ineuron11',),\n",
       " ('test_inueuron112',),\n",
       " ('test_inueuron1123',),\n",
       " ('test_nieuron',),\n",
       " ('testabhisheksaini1',)]"
      ]
     },
     "execution_count": 5,
     "metadata": {},
     "output_type": "execute_result"
    }
   ],
   "source": [
    "cursor.fetchall()"
   ]
  },
  {
   "cell_type": "code",
   "execution_count": 6,
   "id": "6594e4b4",
   "metadata": {},
   "outputs": [
    {
     "ename": "DatabaseError",
     "evalue": "1007 (HY000): Can't create database 'myschoolfirendinfo'; database exists",
     "output_type": "error",
     "traceback": [
      "\u001b[1;31m---------------------------------------------------------------------------\u001b[0m",
      "\u001b[1;31mMySQLInterfaceError\u001b[0m                       Traceback (most recent call last)",
      "File \u001b[1;32mC:\\ProgramData\\Anaconda3\\lib\\site-packages\\mysql\\connector\\connection_cext.py:565\u001b[0m, in \u001b[0;36mCMySQLConnection.cmd_query\u001b[1;34m(self, query, raw, buffered, raw_as_string)\u001b[0m\n\u001b[0;32m    564\u001b[0m         query \u001b[38;5;241m=\u001b[39m query\u001b[38;5;241m.\u001b[39mencode(\u001b[38;5;124m\"\u001b[39m\u001b[38;5;124mutf-8\u001b[39m\u001b[38;5;124m\"\u001b[39m)\n\u001b[1;32m--> 565\u001b[0m     \u001b[38;5;28;43mself\u001b[39;49m\u001b[38;5;241;43m.\u001b[39;49m\u001b[43m_cmysql\u001b[49m\u001b[38;5;241;43m.\u001b[39;49m\u001b[43mquery\u001b[49m\u001b[43m(\u001b[49m\n\u001b[0;32m    566\u001b[0m \u001b[43m        \u001b[49m\u001b[43mquery\u001b[49m\u001b[43m,\u001b[49m\n\u001b[0;32m    567\u001b[0m \u001b[43m        \u001b[49m\u001b[43mraw\u001b[49m\u001b[38;5;241;43m=\u001b[39;49m\u001b[43mraw\u001b[49m\u001b[43m,\u001b[49m\n\u001b[0;32m    568\u001b[0m \u001b[43m        \u001b[49m\u001b[43mbuffered\u001b[49m\u001b[38;5;241;43m=\u001b[39;49m\u001b[43mbuffered\u001b[49m\u001b[43m,\u001b[49m\n\u001b[0;32m    569\u001b[0m \u001b[43m        \u001b[49m\u001b[43mraw_as_string\u001b[49m\u001b[38;5;241;43m=\u001b[39;49m\u001b[43mraw_as_string\u001b[49m\u001b[43m,\u001b[49m\n\u001b[0;32m    570\u001b[0m \u001b[43m        \u001b[49m\u001b[43mquery_attrs\u001b[49m\u001b[38;5;241;43m=\u001b[39;49m\u001b[38;5;28;43mself\u001b[39;49m\u001b[38;5;241;43m.\u001b[39;49m\u001b[43m_query_attrs\u001b[49m\u001b[43m,\u001b[49m\n\u001b[0;32m    571\u001b[0m \u001b[43m    \u001b[49m\u001b[43m)\u001b[49m\n\u001b[0;32m    572\u001b[0m \u001b[38;5;28;01mexcept\u001b[39;00m MySQLInterfaceError \u001b[38;5;28;01mas\u001b[39;00m err:\n",
      "\u001b[1;31mMySQLInterfaceError\u001b[0m: Can't create database 'myschoolfirendinfo'; database exists",
      "\nThe above exception was the direct cause of the following exception:\n",
      "\u001b[1;31mDatabaseError\u001b[0m                             Traceback (most recent call last)",
      "Input \u001b[1;32mIn [6]\u001b[0m, in \u001b[0;36m<cell line: 1>\u001b[1;34m()\u001b[0m\n\u001b[1;32m----> 1\u001b[0m \u001b[43mcursor\u001b[49m\u001b[38;5;241;43m.\u001b[39;49m\u001b[43mexecute\u001b[49m\u001b[43m(\u001b[49m\u001b[38;5;124;43m'\u001b[39;49m\u001b[38;5;124;43mcreate database myschoolfirendinfo\u001b[39;49m\u001b[38;5;124;43m'\u001b[39;49m\u001b[43m)\u001b[49m\n",
      "File \u001b[1;32mC:\\ProgramData\\Anaconda3\\lib\\site-packages\\mysql\\connector\\cursor_cext.py:279\u001b[0m, in \u001b[0;36mCMySQLCursor.execute\u001b[1;34m(self, operation, params, multi)\u001b[0m\n\u001b[0;32m    274\u001b[0m             \u001b[38;5;28;01mraise\u001b[39;00m ProgrammingError(\n\u001b[0;32m    275\u001b[0m                 \u001b[38;5;124m\"\u001b[39m\u001b[38;5;124mNot all parameters were used in the SQL statement\u001b[39m\u001b[38;5;124m\"\u001b[39m\n\u001b[0;32m    276\u001b[0m             )\n\u001b[0;32m    278\u001b[0m \u001b[38;5;28;01mtry\u001b[39;00m:\n\u001b[1;32m--> 279\u001b[0m     result \u001b[38;5;241m=\u001b[39m \u001b[38;5;28;43mself\u001b[39;49m\u001b[38;5;241;43m.\u001b[39;49m\u001b[43m_cnx\u001b[49m\u001b[38;5;241;43m.\u001b[39;49m\u001b[43mcmd_query\u001b[49m\u001b[43m(\u001b[49m\n\u001b[0;32m    280\u001b[0m \u001b[43m        \u001b[49m\u001b[43mstmt\u001b[49m\u001b[43m,\u001b[49m\n\u001b[0;32m    281\u001b[0m \u001b[43m        \u001b[49m\u001b[43mraw\u001b[49m\u001b[38;5;241;43m=\u001b[39;49m\u001b[38;5;28;43mself\u001b[39;49m\u001b[38;5;241;43m.\u001b[39;49m\u001b[43m_raw\u001b[49m\u001b[43m,\u001b[49m\n\u001b[0;32m    282\u001b[0m \u001b[43m        \u001b[49m\u001b[43mbuffered\u001b[49m\u001b[38;5;241;43m=\u001b[39;49m\u001b[38;5;28;43mself\u001b[39;49m\u001b[38;5;241;43m.\u001b[39;49m\u001b[43m_buffered\u001b[49m\u001b[43m,\u001b[49m\n\u001b[0;32m    283\u001b[0m \u001b[43m        \u001b[49m\u001b[43mraw_as_string\u001b[49m\u001b[38;5;241;43m=\u001b[39;49m\u001b[38;5;28;43mself\u001b[39;49m\u001b[38;5;241;43m.\u001b[39;49m\u001b[43m_raw_as_string\u001b[49m\u001b[43m,\u001b[49m\n\u001b[0;32m    284\u001b[0m \u001b[43m    \u001b[49m\u001b[43m)\u001b[49m\n\u001b[0;32m    285\u001b[0m \u001b[38;5;28;01mexcept\u001b[39;00m MySQLInterfaceError \u001b[38;5;28;01mas\u001b[39;00m err:\n\u001b[0;32m    286\u001b[0m     \u001b[38;5;28;01mraise\u001b[39;00m get_mysql_exception(\n\u001b[0;32m    287\u001b[0m         msg\u001b[38;5;241m=\u001b[39merr\u001b[38;5;241m.\u001b[39mmsg, errno\u001b[38;5;241m=\u001b[39merr\u001b[38;5;241m.\u001b[39merrno, sqlstate\u001b[38;5;241m=\u001b[39merr\u001b[38;5;241m.\u001b[39msqlstate\n\u001b[0;32m    288\u001b[0m     ) \u001b[38;5;28;01mfrom\u001b[39;00m \u001b[38;5;21;01merr\u001b[39;00m\n",
      "File \u001b[1;32mC:\\ProgramData\\Anaconda3\\lib\\site-packages\\mysql\\connector\\connection_cext.py:573\u001b[0m, in \u001b[0;36mCMySQLConnection.cmd_query\u001b[1;34m(self, query, raw, buffered, raw_as_string)\u001b[0m\n\u001b[0;32m    565\u001b[0m     \u001b[38;5;28mself\u001b[39m\u001b[38;5;241m.\u001b[39m_cmysql\u001b[38;5;241m.\u001b[39mquery(\n\u001b[0;32m    566\u001b[0m         query,\n\u001b[0;32m    567\u001b[0m         raw\u001b[38;5;241m=\u001b[39mraw,\n\u001b[1;32m   (...)\u001b[0m\n\u001b[0;32m    570\u001b[0m         query_attrs\u001b[38;5;241m=\u001b[39m\u001b[38;5;28mself\u001b[39m\u001b[38;5;241m.\u001b[39m_query_attrs,\n\u001b[0;32m    571\u001b[0m     )\n\u001b[0;32m    572\u001b[0m \u001b[38;5;28;01mexcept\u001b[39;00m MySQLInterfaceError \u001b[38;5;28;01mas\u001b[39;00m err:\n\u001b[1;32m--> 573\u001b[0m     \u001b[38;5;28;01mraise\u001b[39;00m get_mysql_exception(\n\u001b[0;32m    574\u001b[0m         err\u001b[38;5;241m.\u001b[39merrno, msg\u001b[38;5;241m=\u001b[39merr\u001b[38;5;241m.\u001b[39mmsg, sqlstate\u001b[38;5;241m=\u001b[39merr\u001b[38;5;241m.\u001b[39msqlstate\n\u001b[0;32m    575\u001b[0m     ) \u001b[38;5;28;01mfrom\u001b[39;00m \u001b[38;5;21;01merr\u001b[39;00m\n\u001b[0;32m    576\u001b[0m \u001b[38;5;28;01mexcept\u001b[39;00m \u001b[38;5;167;01mAttributeError\u001b[39;00m \u001b[38;5;28;01mas\u001b[39;00m err:\n\u001b[0;32m    577\u001b[0m     addr \u001b[38;5;241m=\u001b[39m (\n\u001b[0;32m    578\u001b[0m         \u001b[38;5;28mself\u001b[39m\u001b[38;5;241m.\u001b[39m_unix_socket \u001b[38;5;28;01mif\u001b[39;00m \u001b[38;5;28mself\u001b[39m\u001b[38;5;241m.\u001b[39m_unix_socket \u001b[38;5;28;01melse\u001b[39;00m \u001b[38;5;124mf\u001b[39m\u001b[38;5;124m\"\u001b[39m\u001b[38;5;132;01m{\u001b[39;00m\u001b[38;5;28mself\u001b[39m\u001b[38;5;241m.\u001b[39m_host\u001b[38;5;132;01m}\u001b[39;00m\u001b[38;5;124m:\u001b[39m\u001b[38;5;132;01m{\u001b[39;00m\u001b[38;5;28mself\u001b[39m\u001b[38;5;241m.\u001b[39m_port\u001b[38;5;132;01m}\u001b[39;00m\u001b[38;5;124m\"\u001b[39m\n\u001b[0;32m    579\u001b[0m     )\n",
      "\u001b[1;31mDatabaseError\u001b[0m: 1007 (HY000): Can't create database 'myschoolfirendinfo'; database exists"
     ]
    }
   ],
   "source": [
    "cursor.execute('create database myschoolfirendinfo')"
   ]
  },
  {
   "cell_type": "code",
   "execution_count": null,
   "id": "fc7924e4",
   "metadata": {},
   "outputs": [],
   "source": [
    "cursor.execute('create table myschoolfirendinfo.info(sno INT(10),studentsname VARCHAR(30),gmail VARCHAR(30),phoneno INT(11),marks INT(10))')"
   ]
  },
  {
   "cell_type": "code",
   "execution_count": 20,
   "id": "52265dce",
   "metadata": {},
   "outputs": [],
   "source": [
    "cursor.execute('insert myschoolfirendinfo.info values(0,\"ABHISHEK SAINI\",\"abhisheksaini388@gmail.com\",097644907,98)')"
   ]
  },
  {
   "cell_type": "code",
   "execution_count": 21,
   "id": "86bba612",
   "metadata": {},
   "outputs": [],
   "source": [
    "cursor.execute('insert myschoolfirendinfo.info values(1,\"ANKIT SAINI\",\"ankitsaini788@gmail.com\",8989898,99)')"
   ]
  },
  {
   "cell_type": "code",
   "execution_count": 22,
   "id": "48728657",
   "metadata": {},
   "outputs": [],
   "source": [
    "cursor.execute('insert myschoolfirendinfo.info values(2,\"Akash Sharma\",\"akashshar_899@gmail.com\",78787855,66)')"
   ]
  },
  {
   "cell_type": "code",
   "execution_count": 23,
   "id": "db1c943d",
   "metadata": {},
   "outputs": [],
   "source": [
    "cursor.execute('insert myschoolfirendinfo.info values(3,\"Jayesh Kumar\",\"jayeshkumar555@gmail.com\",45454353,89)')"
   ]
  },
  {
   "cell_type": "code",
   "execution_count": 24,
   "id": "aeebc73f",
   "metadata": {},
   "outputs": [],
   "source": [
    "cursor.execute('insert myschoolfirendinfo.info values(4,\"Akshat Jain\",\"akshatjain255@gmail.com\",7878225,78)')"
   ]
  },
  {
   "cell_type": "code",
   "execution_count": 25,
   "id": "5a2bea96",
   "metadata": {},
   "outputs": [],
   "source": [
    "cursor.execute('insert myschoolfirendinfo.info values(5,\"Mohit joshi\",\"mohitjoshi452@gmail.com\",454585621,89)')"
   ]
  },
  {
   "cell_type": "code",
   "execution_count": 26,
   "id": "12ebc84f",
   "metadata": {},
   "outputs": [],
   "source": [
    "cursor.execute('insert myschoolfirendinfo.info values(6,\"shafik khatri\",\"shafikkatri876@gmail.com\",9697785,87)')"
   ]
  },
  {
   "cell_type": "code",
   "execution_count": 27,
   "id": "b690b937",
   "metadata": {},
   "outputs": [],
   "source": [
    "cursor.execute('insert myschoolfirendinfo.info values(7,\"kush rathore\",\"kushrathore366@gmail.com\",8523697,78)')"
   ]
  },
  {
   "cell_type": "code",
   "execution_count": 33,
   "id": "7cfae096",
   "metadata": {},
   "outputs": [],
   "source": [
    "cursor.execute('insert myschoolfirendinfo.info values(8,\"Nayan agarwal\",\"nayan1233@gmail.com\",56599898,88)')"
   ]
  },
  {
   "cell_type": "code",
   "execution_count": 38,
   "id": "a29f0512",
   "metadata": {},
   "outputs": [],
   "source": [
    "cursor.execute('insert myschoolfirendinfo.info values(9,\"Kushagra Soni\",\"kushagra887@gmial.com\",89898782,78)')"
   ]
  },
  {
   "cell_type": "code",
   "execution_count": 27,
   "id": "2fae521a",
   "metadata": {},
   "outputs": [],
   "source": [
    "cursor.execute('insert myschoolfirendinfo.info values(10,\"sumit joshi\",\"sumitjoshi888@gmail.com\",78787552,88,\"maheshkumar\",\"2001-01-05\")')"
   ]
  },
  {
   "cell_type": "code",
   "execution_count": 28,
   "id": "f2773f9d",
   "metadata": {},
   "outputs": [],
   "source": [
    "mydb.commit()"
   ]
  },
  {
   "cell_type": "code",
   "execution_count": 29,
   "id": "300ed323",
   "metadata": {},
   "outputs": [],
   "source": [
    "cursor.execute('select * from myschoolfirendinfo.info')"
   ]
  },
  {
   "cell_type": "code",
   "execution_count": 30,
   "id": "e0482711",
   "metadata": {},
   "outputs": [
    {
     "data": {
      "text/plain": [
       "[(0, 'ABHISHEK SAINI', 'abhisheksaini388@gmail.com', 97644907, 98, None, None),\n",
       " (1, 'ANKIT SAINI', 'ankitsaini788@gmail.com', 88854544, 99, None, None),\n",
       " (2, 'Akash Sharma', 'akashshar_899@gmail.com', 78787855, 66, None, None),\n",
       " (3, 'Jayesh Kumar', 'jayeshkumar555@gmail.com', 45454353, 89, None, None),\n",
       " (4, 'Akshat Jain', 'akshatjain255@gmail.com', 7878225, 78, None, None),\n",
       " (5, 'Mohit joshi', 'mohitjoshi452@gmail.com', 454585621, 89, None, None),\n",
       " (6, 'shafik khatri', 'shafikkatri876@gmail.com', 9697785, 87, None, None),\n",
       " (7, 'kush rathore', 'kushrathore366@gmail.com', 8523697, 78, None, None),\n",
       " (8, 'Nayan agarwal', 'nayan1233@gmail.com', 56599898, 88, None, None),\n",
       " (9, 'Kushagra Soni', 'kushagra887@gmial.com', 89898782, 78, None, None),\n",
       " (10, 'Rishab jain', 'cool454@gmail.com', 8989877, 89, None, None),\n",
       " (10,\n",
       "  'sumit joshi',\n",
       "  'sumitjoshi888@gmail.com',\n",
       "  78787552,\n",
       "  88,\n",
       "  'maheshkumar',\n",
       "  datetime.date(2001, 1, 5))]"
      ]
     },
     "execution_count": 30,
     "metadata": {},
     "output_type": "execute_result"
    }
   ],
   "source": [
    "cursor.fetchall()"
   ]
  },
  {
   "cell_type": "code",
   "execution_count": 6,
   "id": "6d55736a",
   "metadata": {},
   "outputs": [],
   "source": [
    "import pandas as pd"
   ]
  },
  {
   "cell_type": "code",
   "execution_count": 7,
   "id": "834c1eee",
   "metadata": {},
   "outputs": [
    {
     "name": "stderr",
     "output_type": "stream",
     "text": [
      "C:\\ProgramData\\Anaconda3\\lib\\site-packages\\pandas\\io\\sql.py:761: UserWarning: pandas only support SQLAlchemy connectable(engine/connection) ordatabase string URI or sqlite3 DBAPI2 connectionother DBAPI2 objects are not tested, please consider using SQLAlchemy\n",
      "  warnings.warn(\n"
     ]
    },
    {
     "data": {
      "text/html": [
       "<div>\n",
       "<style scoped>\n",
       "    .dataframe tbody tr th:only-of-type {\n",
       "        vertical-align: middle;\n",
       "    }\n",
       "\n",
       "    .dataframe tbody tr th {\n",
       "        vertical-align: top;\n",
       "    }\n",
       "\n",
       "    .dataframe thead th {\n",
       "        text-align: right;\n",
       "    }\n",
       "</style>\n",
       "<table border=\"1\" class=\"dataframe\">\n",
       "  <thead>\n",
       "    <tr style=\"text-align: right;\">\n",
       "      <th></th>\n",
       "      <th>sno</th>\n",
       "      <th>studentsname</th>\n",
       "      <th>gmail</th>\n",
       "      <th>phoneno</th>\n",
       "      <th>marks</th>\n",
       "      <th>stuudentsfathername</th>\n",
       "      <th>studentsdob</th>\n",
       "    </tr>\n",
       "  </thead>\n",
       "  <tbody>\n",
       "    <tr>\n",
       "      <th>0</th>\n",
       "      <td>0</td>\n",
       "      <td>ABHISHEK SAINI</td>\n",
       "      <td>abhisheksaini388@gmail.com</td>\n",
       "      <td>97644907</td>\n",
       "      <td>98</td>\n",
       "      <td>ashokkumarsaini</td>\n",
       "      <td>2001-07-27</td>\n",
       "    </tr>\n",
       "    <tr>\n",
       "      <th>1</th>\n",
       "      <td>1</td>\n",
       "      <td>ANKIT SAINI</td>\n",
       "      <td>ankitsaini788@gmail.com</td>\n",
       "      <td>88854544</td>\n",
       "      <td>99</td>\n",
       "      <td>juiiuiui</td>\n",
       "      <td>2002-05-28</td>\n",
       "    </tr>\n",
       "    <tr>\n",
       "      <th>2</th>\n",
       "      <td>2</td>\n",
       "      <td>Akash Sharma</td>\n",
       "      <td>akashshar_899@gmail.com</td>\n",
       "      <td>78787855</td>\n",
       "      <td>66</td>\n",
       "      <td>kashkumar</td>\n",
       "      <td>2001-08-25</td>\n",
       "    </tr>\n",
       "    <tr>\n",
       "      <th>3</th>\n",
       "      <td>3</td>\n",
       "      <td>Jayesh Kumar</td>\n",
       "      <td>jayeshkumar555@gmail.com</td>\n",
       "      <td>45454353</td>\n",
       "      <td>89</td>\n",
       "      <td>kalksalk</td>\n",
       "      <td>1999-05-02</td>\n",
       "    </tr>\n",
       "    <tr>\n",
       "      <th>4</th>\n",
       "      <td>4</td>\n",
       "      <td>Akshat Jain</td>\n",
       "      <td>akshatjain255@gmail.com</td>\n",
       "      <td>7878225</td>\n",
       "      <td>78</td>\n",
       "      <td>kllklklkkala</td>\n",
       "      <td>2002-08-04</td>\n",
       "    </tr>\n",
       "    <tr>\n",
       "      <th>5</th>\n",
       "      <td>5</td>\n",
       "      <td>Mohit joshi</td>\n",
       "      <td>mohitjoshi452@gmail.com</td>\n",
       "      <td>454585621</td>\n",
       "      <td>89</td>\n",
       "      <td>Jay</td>\n",
       "      <td>2001-09-04</td>\n",
       "    </tr>\n",
       "    <tr>\n",
       "      <th>6</th>\n",
       "      <td>6</td>\n",
       "      <td>shafik khatri</td>\n",
       "      <td>shafikkatri876@gmail.com</td>\n",
       "      <td>9697785</td>\n",
       "      <td>87</td>\n",
       "      <td>kuiuiusj</td>\n",
       "      <td>1999-04-14</td>\n",
       "    </tr>\n",
       "    <tr>\n",
       "      <th>7</th>\n",
       "      <td>7</td>\n",
       "      <td>kush rathore</td>\n",
       "      <td>kushrathore366@gmail.com</td>\n",
       "      <td>8523697</td>\n",
       "      <td>78</td>\n",
       "      <td>kayesh kumar</td>\n",
       "      <td>2001-05-12</td>\n",
       "    </tr>\n",
       "    <tr>\n",
       "      <th>8</th>\n",
       "      <td>8</td>\n",
       "      <td>Nayan agarwal</td>\n",
       "      <td>nayan1233@gmail.com</td>\n",
       "      <td>56599898</td>\n",
       "      <td>88</td>\n",
       "      <td>hiteshshar_</td>\n",
       "      <td>2001-05-18</td>\n",
       "    </tr>\n",
       "    <tr>\n",
       "      <th>9</th>\n",
       "      <td>9</td>\n",
       "      <td>Kushagra Soni</td>\n",
       "      <td>kushagra887@gmial.com</td>\n",
       "      <td>89898782</td>\n",
       "      <td>78</td>\n",
       "      <td>kayank</td>\n",
       "      <td>2005-05-20</td>\n",
       "    </tr>\n",
       "    <tr>\n",
       "      <th>10</th>\n",
       "      <td>10</td>\n",
       "      <td>Rishab jain</td>\n",
       "      <td>cool454@gmail.com</td>\n",
       "      <td>8989877</td>\n",
       "      <td>89</td>\n",
       "      <td>umangshar_</td>\n",
       "      <td>2001-06-14</td>\n",
       "    </tr>\n",
       "    <tr>\n",
       "      <th>11</th>\n",
       "      <td>10</td>\n",
       "      <td>sumit joshi</td>\n",
       "      <td>sumitjoshi888@gmail.com</td>\n",
       "      <td>78787552</td>\n",
       "      <td>88</td>\n",
       "      <td>umangshar_</td>\n",
       "      <td>2001-06-14</td>\n",
       "    </tr>\n",
       "  </tbody>\n",
       "</table>\n",
       "</div>"
      ],
      "text/plain": [
       "    sno    studentsname                       gmail    phoneno  marks  \\\n",
       "0     0  ABHISHEK SAINI  abhisheksaini388@gmail.com   97644907     98   \n",
       "1     1     ANKIT SAINI     ankitsaini788@gmail.com   88854544     99   \n",
       "2     2    Akash Sharma     akashshar_899@gmail.com   78787855     66   \n",
       "3     3    Jayesh Kumar    jayeshkumar555@gmail.com   45454353     89   \n",
       "4     4     Akshat Jain     akshatjain255@gmail.com    7878225     78   \n",
       "5     5     Mohit joshi     mohitjoshi452@gmail.com  454585621     89   \n",
       "6     6   shafik khatri    shafikkatri876@gmail.com    9697785     87   \n",
       "7     7    kush rathore    kushrathore366@gmail.com    8523697     78   \n",
       "8     8   Nayan agarwal         nayan1233@gmail.com   56599898     88   \n",
       "9     9   Kushagra Soni       kushagra887@gmial.com   89898782     78   \n",
       "10   10     Rishab jain           cool454@gmail.com    8989877     89   \n",
       "11   10     sumit joshi     sumitjoshi888@gmail.com   78787552     88   \n",
       "\n",
       "   stuudentsfathername studentsdob  \n",
       "0      ashokkumarsaini  2001-07-27  \n",
       "1             juiiuiui  2002-05-28  \n",
       "2            kashkumar  2001-08-25  \n",
       "3             kalksalk  1999-05-02  \n",
       "4         kllklklkkala  2002-08-04  \n",
       "5                  Jay  2001-09-04  \n",
       "6             kuiuiusj  1999-04-14  \n",
       "7         kayesh kumar  2001-05-12  \n",
       "8          hiteshshar_  2001-05-18  \n",
       "9               kayank  2005-05-20  \n",
       "10          umangshar_  2001-06-14  \n",
       "11          umangshar_  2001-06-14  "
      ]
     },
     "execution_count": 7,
     "metadata": {},
     "output_type": "execute_result"
    }
   ],
   "source": [
    "pd.read_sql(\"select* from myschoolfirendinfo.info\",mydb)"
   ]
  },
  {
   "cell_type": "code",
   "execution_count": 9,
   "id": "7633e2e4",
   "metadata": {},
   "outputs": [],
   "source": [
    "import pandas as pd"
   ]
  },
  {
   "cell_type": "code",
   "execution_count": 10,
   "id": "1926595c",
   "metadata": {},
   "outputs": [
    {
     "name": "stderr",
     "output_type": "stream",
     "text": [
      "C:\\ProgramData\\Anaconda3\\lib\\site-packages\\pandas\\io\\sql.py:761: UserWarning: pandas only support SQLAlchemy connectable(engine/connection) ordatabase string URI or sqlite3 DBAPI2 connectionother DBAPI2 objects are not tested, please consider using SQLAlchemy\n",
      "  warnings.warn(\n"
     ]
    },
    {
     "data": {
      "text/html": [
       "<div>\n",
       "<style scoped>\n",
       "    .dataframe tbody tr th:only-of-type {\n",
       "        vertical-align: middle;\n",
       "    }\n",
       "\n",
       "    .dataframe tbody tr th {\n",
       "        vertical-align: top;\n",
       "    }\n",
       "\n",
       "    .dataframe thead th {\n",
       "        text-align: right;\n",
       "    }\n",
       "</style>\n",
       "<table border=\"1\" class=\"dataframe\">\n",
       "  <thead>\n",
       "    <tr style=\"text-align: right;\">\n",
       "      <th></th>\n",
       "      <th>studentid</th>\n",
       "      <th>firstname</th>\n",
       "      <th>lastname</th>\n",
       "      <th>regid</th>\n",
       "      <th>classname</th>\n",
       "    </tr>\n",
       "  </thead>\n",
       "  <tbody>\n",
       "  </tbody>\n",
       "</table>\n",
       "</div>"
      ],
      "text/plain": [
       "Empty DataFrame\n",
       "Columns: [studentid, firstname, lastname, regid, classname]\n",
       "Index: []"
      ]
     },
     "execution_count": 10,
     "metadata": {},
     "output_type": "execute_result"
    }
   ],
   "source": [
    "pd.read_sql(\"select * from abhisheksainiopal.sainiopal\",mydb)"
   ]
  },
  {
   "cell_type": "code",
   "execution_count": null,
   "id": "a3540140",
   "metadata": {},
   "outputs": [],
   "source": []
  }
 ],
 "metadata": {
  "kernelspec": {
   "display_name": "Python 3 (ipykernel)",
   "language": "python",
   "name": "python3"
  },
  "language_info": {
   "codemirror_mode": {
    "name": "ipython",
    "version": 3
   },
   "file_extension": ".py",
   "mimetype": "text/x-python",
   "name": "python",
   "nbconvert_exporter": "python",
   "pygments_lexer": "ipython3",
   "version": "3.9.12"
  }
 },
 "nbformat": 4,
 "nbformat_minor": 5
}
