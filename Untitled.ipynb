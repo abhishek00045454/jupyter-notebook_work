{
 "cells": [
  {
   "cell_type": "code",
   "execution_count": 2,
   "id": "b8d91356",
   "metadata": {},
   "outputs": [
    {
     "name": "stdout",
     "output_type": "stream",
     "text": [
      "Enter movie name: BHABUBALI\n",
      "Enter hero name: PRABHAS\n",
      "Enter heroine name:TAMANAA\n",
      "Movie added successfully\n",
      "Do you add one more movie [yes/no] :NO\n",
      "All movie information\n",
      "movie name BHABUBALI\n",
      "hero name PRABHAS\n",
      "heroine name TAMANAA\n",
      "\n"
     ]
    }
   ],
   "source": [
    "class Movie:\n",
    "  \"\"\"\n",
    "  this is class develped by Abhi for demo\n",
    "\n",
    "  \"\"\"\n",
    "  def __init__(self,tittle,hero,heroine):\n",
    "    self.tittle=tittle\n",
    "    self.hero=hero\n",
    "    self.heroine=heroine\n",
    "  def info(self):\n",
    "    print(\"movie name\",self.tittle)\n",
    "    print(\"hero name\",self.hero)\n",
    "    print(\"heroine name\",self.heroine)\n",
    "list_of_movie=[]\n",
    "while True:\n",
    "  tittle= input(\"Enter movie name: \")\n",
    "  hero=input(\"Enter hero name: \")\n",
    "  heroine=input(\"Enter heroine name:\")\n",
    "  s=Movie(tittle,hero,heroine)\n",
    "  list_of_movie.append(s)\n",
    "  print(\"Movie added successfully\")\n",
    "  option=input(\"Do you add one more movie [yes/no] :\")\n",
    "  if option==\"no\" or option==\"NO\":\n",
    "    break\n",
    "print(\"All movie information\")\n",
    "for each in list_of_movie:\n",
    "  each.info()\n",
    "  print()"
   ]
  },
  {
   "cell_type": "code",
   "execution_count": null,
   "id": "d42fff42",
   "metadata": {},
   "outputs": [],
   "source": []
  }
 ],
 "metadata": {
  "kernelspec": {
   "display_name": "Python 3 (ipykernel)",
   "language": "python",
   "name": "python3"
  },
  "language_info": {
   "codemirror_mode": {
    "name": "ipython",
    "version": 3
   },
   "file_extension": ".py",
   "mimetype": "text/x-python",
   "name": "python",
   "nbconvert_exporter": "python",
   "pygments_lexer": "ipython3",
   "version": "3.9.12"
  }
 },
 "nbformat": 4,
 "nbformat_minor": 5
}
