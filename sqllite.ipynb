{
 "cells": [
  {
   "cell_type": "code",
   "execution_count": 3,
   "id": "328fd6c2",
   "metadata": {},
   "outputs": [],
   "source": [
    "import sqlite3 "
   ]
  },
  {
   "cell_type": "code",
   "execution_count": 4,
   "id": "3bdbad7f",
   "metadata": {},
   "outputs": [],
   "source": [
    "db=sqlite3.connect(\"abhisheksaini_44\")"
   ]
  },
  {
   "cell_type": "code",
   "execution_count": 5,
   "id": "3f5056e3",
   "metadata": {},
   "outputs": [
    {
     "name": "stdout",
     "output_type": "stream",
     "text": [
      "<sqlite3.Connection object at 0x0000027F22A3B210>\n"
     ]
    }
   ],
   "source": [
    "print(db)"
   ]
  },
  {
   "cell_type": "code",
   "execution_count": 6,
   "id": "f374e80e",
   "metadata": {},
   "outputs": [],
   "source": [
    "cursor=db.cursor()"
   ]
  },
  {
   "cell_type": "code",
   "execution_count": 15,
   "id": "0e1f4c1b",
   "metadata": {},
   "outputs": [
    {
     "ename": "OperationalError",
     "evalue": "table fsds already exists",
     "output_type": "error",
     "traceback": [
      "\u001b[1;31m---------------------------------------------------------------------------\u001b[0m",
      "\u001b[1;31mOperationalError\u001b[0m                          Traceback (most recent call last)",
      "Input \u001b[1;32mIn [15]\u001b[0m, in \u001b[0;36m<cell line: 1>\u001b[1;34m()\u001b[0m\n\u001b[1;32m----> 1\u001b[0m \u001b[43mcursor\u001b[49m\u001b[38;5;241;43m.\u001b[39;49m\u001b[43mexecute\u001b[49m\u001b[43m(\u001b[49m\u001b[38;5;124;43m'\u001b[39;49m\u001b[38;5;124;43mcreate table fsds(name text,batchid int,marks real)\u001b[39;49m\u001b[38;5;124;43m'\u001b[39;49m\u001b[43m)\u001b[49m\n",
      "\u001b[1;31mOperationalError\u001b[0m: table fsds already exists"
     ]
    }
   ],
   "source": [
    "cursor.execute('create table fsds(name text,batchid int,marks real)')"
   ]
  },
  {
   "cell_type": "code",
   "execution_count": 1,
   "id": "f99552ed",
   "metadata": {},
   "outputs": [
    {
     "name": "stdout",
     "output_type": "stream",
     "text": [
      " Volume in drive C has no label.\n",
      " Volume Serial Number is 389F-0762\n",
      "\n",
      " Directory of C:\\Users\\Yaksha\\Desktop\\abhi.cpp\\Untitled Folder\n",
      "\n",
      "10-01-2023  12:23    <DIR>          .\n",
      "10-01-2023  12:23    <DIR>          ..\n",
      "10-01-2023  00:09    <DIR>          .ipynb_checkpoints\n",
      "06-12-2022  00:16    <DIR>          __pycache__\n",
      "08-01-2023  00:00         4,407,102 19.3 MongoDB.7z\n",
      "10-01-2023  12:18             8,192 abhisheksaini_44\n",
      "10-01-2023  12:20             4,616 abhisheksaini_44-journal\n",
      "29-12-2022  19:12           879,767 gamer.txt\n",
      "25-12-2022  17:23            11,903 glass.data\n",
      "10-01-2023  00:07             3,066 mongo1.ipynb\n",
      "09-01-2023  23:47            14,670 mongodb2.ipynb\n",
      "29-12-2022  19:08           875,693 movies.sql\n",
      "06-12-2022  00:16               283 my_module.py\n",
      "04-01-2023  19:25           102,584 mysql_1.ipynb\n",
      "29-12-2022  19:08            93,626 mysql_2.ipynb\n",
      "27-12-2022  21:28            24,252 MYSQLWORKSPACE_1.ipynb\n",
      "27-12-2022  23:44            11,381 MYSQLWORKSPACE_2.ipynb\n",
      "31-12-2022  00:52             1,007 NEW_RECORD_1.sql\n",
      "03-01-2023  11:15               339 NEW_RECORD_10.sql\n",
      "05-01-2023  22:55             1,441 NEW_RECORD_11.sql\n",
      "06-01-2023  10:58               318 NEW_RECORD_12.sql\n",
      "31-12-2022  19:23               367 NEW_RECORD_2.sql\n",
      "05-01-2023  19:05               249 NEW_RECORD_3.sql\n",
      "03-01-2023  19:17               718 NEW_RECORD_4.sql\n",
      "01-01-2023  15:37               339 NEW_RECORD_5.sql\n",
      "01-01-2023  17:15               229 NEW_RECORD_6.sql\n",
      "01-01-2023  23:58               502 NEW_RECORD_7.sql\n",
      "02-01-2023  00:15               166 NEW_RECORD_78.sql\n",
      "03-01-2023  00:13               405 NEW_RECORD_8.sql\n",
      "03-01-2023  11:00               260 NEW_RECORD_9.sql\n",
      "04-01-2023  19:41           121,143 order detail.csv\n",
      "04-01-2023  19:33           121,143 order detail.txt\n",
      "04-01-2023  20:59             3,014 product.csv\n",
      "10-01-2023  12:23             6,006 sqllite.ipynb\n",
      "03-01-2023  00:03           875,693 SWIGGY.SQL\n",
      "11-12-2022  11:39               609 test.log\n",
      "11-12-2022  11:31                 0 test.py\n",
      "05-12-2022  23:38                 0 test08.txt\n",
      "05-12-2022  23:45                99 test1.py\n",
      "05-12-2022  23:41                98 test1.txt\n",
      "08-01-2023  00:53            15,715 Untitled.ipynb\n",
      "10-01-2023  00:09            15,794 Untitled1.ipynb\n",
      "              38 File(s)      7,602,789 bytes\n",
      "               4 Dir(s)  18,818,895,872 bytes free\n"
     ]
    }
   ],
   "source": [
    "ls"
   ]
  },
  {
   "cell_type": "code",
   "execution_count": 26,
   "id": "16620799",
   "metadata": {},
   "outputs": [
    {
     "data": {
      "text/plain": [
       "<sqlite3.Cursor at 0x27f2298de30>"
      ]
     },
     "execution_count": 26,
     "metadata": {},
     "output_type": "execute_result"
    }
   ],
   "source": [
    "cursor.execute(\"insert into fsds  values('abhishek saini',45454,4545.11)\")\n",
    "cursor.execute(\"insert into fsds  values('abhishek saini',45454,4545.11)\")\n",
    "cursor.execute(\"insert into fsds  values('abhishek saini',45454,4545.11)\")\n",
    "cursor.execute(\"insert into fsds  values('abhishek saini',45454,4545.11)\")\n",
    "cursor.execute(\"insert into fsds  values('abhishek saini',45454,4545.11)\")\n",
    "cursor.execute(\"insert into fsds  values('abhishek saini',45454,4545.11)\")\n",
    "cursor.execute(\"insert into fsds  values('abhishek saini',45454,4545.11)\")\n",
    "cursor.execute(\"insert into fsds  values('abhishek saini',45454,4545.11)\")"
   ]
  },
  {
   "cell_type": "code",
   "execution_count": 27,
   "id": "721b29b1",
   "metadata": {},
   "outputs": [],
   "source": [
    "data=cursor.execute(\"select * from fsds\")\n",
    "    "
   ]
  },
  {
   "cell_type": "code",
   "execution_count": 28,
   "id": "3af99b2b",
   "metadata": {},
   "outputs": [
    {
     "name": "stdout",
     "output_type": "stream",
     "text": [
      "('abhishek saini', 45454, 4545.11)\n",
      "('abhishek saini', 45454, 4545.11)\n",
      "('abhishek saini', 45454, 4545.11)\n",
      "('abhishek saini', 45454, 4545.11)\n",
      "('abhishek saini', 45454, 4545.11)\n",
      "('abhishek saini', 45454, 4545.11)\n",
      "('abhishek saini', 45454, 4545.11)\n",
      "('abhishek saini', 45454, 4545.11)\n",
      "('abhishek saini', 45454, 4545.11)\n",
      "('abhishek saini', 45454, 4545.11)\n",
      "('abhishek saini', 45454, 4545.11)\n",
      "('abhishek saini', 45454, 4545.11)\n",
      "('abhishek saini', 45454, 4545.11)\n",
      "('abhishek saini', 45454, 4545.11)\n",
      "('abhishek saini', 45454, 4545.11)\n",
      "('abhishek saini', 45454, 4545.11)\n",
      "('abhishek saini', 45454, 4545.11)\n"
     ]
    }
   ],
   "source": [
    "for i in data:\n",
    "    print(i)"
   ]
  },
  {
   "cell_type": "code",
   "execution_count": 30,
   "id": "e65d76d2",
   "metadata": {},
   "outputs": [],
   "source": [
    "db.commit()"
   ]
  },
  {
   "cell_type": "code",
   "execution_count": 32,
   "id": "cfcc17cb",
   "metadata": {},
   "outputs": [],
   "source": [
    "db.close()"
   ]
  },
  {
   "cell_type": "code",
   "execution_count": 40,
   "id": "713c66ef",
   "metadata": {},
   "outputs": [
    {
     "name": "stdout",
     "output_type": "stream",
     "text": [
      " Volume in drive C has no label.\n",
      " Volume Serial Number is 389F-0762\n",
      "\n",
      " Directory of C:\\Users\\Yaksha\\Desktop\\abhi.cpp\\Untitled Folder\n",
      "\n",
      "10-01-2023  12:37    <DIR>          .\n",
      "10-01-2023  12:37    <DIR>          ..\n",
      "10-01-2023  00:09    <DIR>          .ipynb_checkpoints\n",
      "06-12-2022  00:16    <DIR>          __pycache__\n",
      "08-01-2023  00:00         4,407,102 19.3 MongoDB.7z\n",
      "10-01-2023  12:33             8,192 abhisheksaini_44\n",
      "29-12-2022  19:12           879,767 gamer.txt\n",
      "25-12-2022  17:23            11,903 glass.data\n",
      "10-01-2023  00:07             3,066 mongo1.ipynb\n",
      "09-01-2023  23:47            14,670 mongodb2.ipynb\n",
      "29-12-2022  19:08           875,693 movies.sql\n",
      "06-12-2022  00:16               283 my_module.py\n",
      "04-01-2023  19:25           102,584 mysql_1.ipynb\n",
      "29-12-2022  19:08            93,626 mysql_2.ipynb\n",
      "27-12-2022  21:28            24,252 MYSQLWORKSPACE_1.ipynb\n",
      "27-12-2022  23:44            11,381 MYSQLWORKSPACE_2.ipynb\n",
      "31-12-2022  00:52             1,007 NEW_RECORD_1.sql\n",
      "03-01-2023  11:15               339 NEW_RECORD_10.sql\n",
      "05-01-2023  22:55             1,441 NEW_RECORD_11.sql\n",
      "06-01-2023  10:58               318 NEW_RECORD_12.sql\n",
      "31-12-2022  19:23               367 NEW_RECORD_2.sql\n",
      "05-01-2023  19:05               249 NEW_RECORD_3.sql\n",
      "03-01-2023  19:17               718 NEW_RECORD_4.sql\n",
      "01-01-2023  15:37               339 NEW_RECORD_5.sql\n",
      "01-01-2023  17:15               229 NEW_RECORD_6.sql\n",
      "01-01-2023  23:58               502 NEW_RECORD_7.sql\n",
      "02-01-2023  00:15               166 NEW_RECORD_78.sql\n",
      "03-01-2023  00:13               405 NEW_RECORD_8.sql\n",
      "03-01-2023  11:00               260 NEW_RECORD_9.sql\n",
      "04-01-2023  19:41           121,143 order detail.csv\n",
      "04-01-2023  19:33           121,143 order detail.txt\n",
      "04-01-2023  20:59             3,014 product.csv\n",
      "10-01-2023  12:37             8,474 sqllite.ipynb\n",
      "03-01-2023  00:03           875,693 SWIGGY.SQL\n",
      "11-12-2022  11:39               609 test.log\n",
      "11-12-2022  11:31                 0 test.py\n",
      "05-12-2022  23:38                 0 test08.txt\n",
      "05-12-2022  23:45                99 test1.py\n",
      "05-12-2022  23:41                98 test1.txt\n",
      "08-01-2023  00:53            15,715 Untitled.ipynb\n",
      "10-01-2023  00:09            15,794 Untitled1.ipynb\n",
      "              37 File(s)      7,600,641 bytes\n",
      "               4 Dir(s)  18,815,561,728 bytes free\n"
     ]
    }
   ],
   "source": [
    "ls"
   ]
  },
  {
   "cell_type": "code",
   "execution_count": 42,
   "id": "6aaec791",
   "metadata": {},
   "outputs": [],
   "source": [
    "db=sqlite3.connect(\"abhisheksaini_44\")"
   ]
  },
  {
   "cell_type": "code",
   "execution_count": 44,
   "id": "eba626d9",
   "metadata": {},
   "outputs": [],
   "source": [
    "c=db.cursor()"
   ]
  },
  {
   "cell_type": "code",
   "execution_count": 46,
   "id": "559610f5",
   "metadata": {},
   "outputs": [],
   "source": [
    "data=c.execute(\"select name,marks from fsds\")"
   ]
  },
  {
   "cell_type": "code",
   "execution_count": 48,
   "id": "d6658510",
   "metadata": {},
   "outputs": [],
   "source": [
    "for i in data:\n",
    "    print(i)"
   ]
  },
  {
   "cell_type": "code",
   "execution_count": 50,
   "id": "e9aa5a23",
   "metadata": {},
   "outputs": [],
   "source": [
    "data=c.execute(\"select name,marks from fsds order  by marks\")"
   ]
  },
  {
   "cell_type": "code",
   "execution_count": 52,
   "id": "5e6a8512",
   "metadata": {},
   "outputs": [],
   "source": [
    "for i in data:\n",
    "    print(i)"
   ]
  },
  {
   "cell_type": "code",
   "execution_count": 54,
   "id": "c7092eee",
   "metadata": {},
   "outputs": [],
   "source": [
    "db.close()"
   ]
  },
  {
   "cell_type": "code",
   "execution_count": 57,
   "id": "967ce7de",
   "metadata": {},
   "outputs": [],
   "source": [
    "db=sqlite3.connect(\"person.db\")"
   ]
  },
  {
   "cell_type": "code",
   "execution_count": 59,
   "id": "0d68134b",
   "metadata": {},
   "outputs": [],
   "source": [
    "c=db.cursor()"
   ]
  },
  {
   "cell_type": "code",
   "execution_count": 61,
   "id": "d302fafd",
   "metadata": {},
   "outputs": [
    {
     "data": {
      "text/plain": [
       "<sqlite3.Cursor at 0x27f25204ce0>"
      ]
     },
     "execution_count": 61,
     "metadata": {},
     "output_type": "execute_result"
    }
   ],
   "source": [
    "c.execute(\"create table person_table(name text,email text,age int,salary real)\")"
   ]
  },
  {
   "cell_type": "code",
   "execution_count": 63,
   "id": "6c420d33",
   "metadata": {},
   "outputs": [
    {
     "data": {
      "text/plain": [
       "<sqlite3.Cursor at 0x27f25204ce0>"
      ]
     },
     "execution_count": 63,
     "metadata": {},
     "output_type": "execute_result"
    }
   ],
   "source": [
    "c.execute(\"insert into person_table values('abhishek saini','abhisheksaini388@gmail.com',21,21222.222)\")\n",
    "c.execute(\"insert into person_table values('ankit saini','ankitsaini455@gmail.com',24,27787.222)\")\n",
    "c.execute(\"insert into person_table values('kartik saini','kartiksaini778@gmail.com',27,24444.222)\")\n",
    "c.execute(\"insert into person_table values('aditya saini','adtiyasaini4558@gmail.com',30,27878.222)\")\n",
    "c.execute(\"insert into person_table values('amit saini','amitsaini388@gmail.com',28,12255.222)\")\n",
    "c.execute(\"insert into person_table values('rakesh saini','rakeshsaini388@gmail.com',20,787874.222)\")\n",
    "c.execute(\"insert into person_table values('mohit saini','mohitsaini388@gmail.com',31,148889.222)\")\n",
    "c.execute(\"insert into person_table values('mayank saini','mayanksaini388@gmail.com',41,24478787.222)\")"
   ]
  },
  {
   "cell_type": "code",
   "execution_count": 69,
   "id": "8019b31f",
   "metadata": {},
   "outputs": [],
   "source": [
    "data=c.execute(\"select name,salary from person_table where salary >21000\")"
   ]
  },
  {
   "cell_type": "code",
   "execution_count": 76,
   "id": "af6cbb5d",
   "metadata": {},
   "outputs": [
    {
     "ename": "ProgrammingError",
     "evalue": "Cannot operate on a closed database.",
     "output_type": "error",
     "traceback": [
      "\u001b[1;31m---------------------------------------------------------------------------\u001b[0m",
      "\u001b[1;31mProgrammingError\u001b[0m                          Traceback (most recent call last)",
      "Input \u001b[1;32mIn [76]\u001b[0m, in \u001b[0;36m<cell line: 1>\u001b[1;34m()\u001b[0m\n\u001b[1;32m----> 1\u001b[0m \u001b[38;5;28;01mfor\u001b[39;00m i \u001b[38;5;129;01min\u001b[39;00m data:\n\u001b[0;32m      2\u001b[0m     \u001b[38;5;28mprint\u001b[39m(i)\n",
      "\u001b[1;31mProgrammingError\u001b[0m: Cannot operate on a closed database."
     ]
    }
   ],
   "source": [
    "for i in data:\n",
    "    print(i)\n",
    "    "
   ]
  },
  {
   "cell_type": "code",
   "execution_count": 74,
   "id": "83771bc9",
   "metadata": {},
   "outputs": [],
   "source": [
    "db.commit()\n"
   ]
  },
  {
   "cell_type": "code",
   "execution_count": 75,
   "id": "44256804",
   "metadata": {},
   "outputs": [],
   "source": [
    "db.close()"
   ]
  },
  {
   "cell_type": "code",
   "execution_count": 71,
   "id": "bea86b66",
   "metadata": {},
   "outputs": [],
   "source": [
    "import pandas as pd"
   ]
  },
  {
   "cell_type": "code",
   "execution_count": 72,
   "id": "6b8609be",
   "metadata": {},
   "outputs": [
    {
     "data": {
      "text/html": [
       "<div>\n",
       "<style scoped>\n",
       "    .dataframe tbody tr th:only-of-type {\n",
       "        vertical-align: middle;\n",
       "    }\n",
       "\n",
       "    .dataframe tbody tr th {\n",
       "        vertical-align: top;\n",
       "    }\n",
       "\n",
       "    .dataframe thead th {\n",
       "        text-align: right;\n",
       "    }\n",
       "</style>\n",
       "<table border=\"1\" class=\"dataframe\">\n",
       "  <thead>\n",
       "    <tr style=\"text-align: right;\">\n",
       "      <th></th>\n",
       "      <th>name</th>\n",
       "      <th>email</th>\n",
       "      <th>age</th>\n",
       "      <th>salary</th>\n",
       "    </tr>\n",
       "  </thead>\n",
       "  <tbody>\n",
       "    <tr>\n",
       "      <th>0</th>\n",
       "      <td>abhishek saini</td>\n",
       "      <td>abhisheksaini388@gmail.com</td>\n",
       "      <td>21</td>\n",
       "      <td>2.122222e+04</td>\n",
       "    </tr>\n",
       "    <tr>\n",
       "      <th>1</th>\n",
       "      <td>ankit saini</td>\n",
       "      <td>ankitsaini455@gmail.com</td>\n",
       "      <td>24</td>\n",
       "      <td>2.778722e+04</td>\n",
       "    </tr>\n",
       "    <tr>\n",
       "      <th>2</th>\n",
       "      <td>kartik saini</td>\n",
       "      <td>kartiksaini778@gmail.com</td>\n",
       "      <td>27</td>\n",
       "      <td>2.444422e+04</td>\n",
       "    </tr>\n",
       "    <tr>\n",
       "      <th>3</th>\n",
       "      <td>aditya saini</td>\n",
       "      <td>adtiyasaini4558@gmail.com</td>\n",
       "      <td>30</td>\n",
       "      <td>2.787822e+04</td>\n",
       "    </tr>\n",
       "    <tr>\n",
       "      <th>4</th>\n",
       "      <td>amit saini</td>\n",
       "      <td>amitsaini388@gmail.com</td>\n",
       "      <td>28</td>\n",
       "      <td>1.225522e+04</td>\n",
       "    </tr>\n",
       "    <tr>\n",
       "      <th>5</th>\n",
       "      <td>rakesh saini</td>\n",
       "      <td>rakeshsaini388@gmail.com</td>\n",
       "      <td>20</td>\n",
       "      <td>7.878742e+05</td>\n",
       "    </tr>\n",
       "    <tr>\n",
       "      <th>6</th>\n",
       "      <td>mohit saini</td>\n",
       "      <td>mohitsaini388@gmail.com</td>\n",
       "      <td>31</td>\n",
       "      <td>1.488892e+05</td>\n",
       "    </tr>\n",
       "    <tr>\n",
       "      <th>7</th>\n",
       "      <td>mayank saini</td>\n",
       "      <td>mayanksaini388@gmail.com</td>\n",
       "      <td>41</td>\n",
       "      <td>2.447879e+07</td>\n",
       "    </tr>\n",
       "  </tbody>\n",
       "</table>\n",
       "</div>"
      ],
      "text/plain": [
       "             name                       email  age        salary\n",
       "0  abhishek saini  abhisheksaini388@gmail.com   21  2.122222e+04\n",
       "1     ankit saini     ankitsaini455@gmail.com   24  2.778722e+04\n",
       "2    kartik saini    kartiksaini778@gmail.com   27  2.444422e+04\n",
       "3    aditya saini   adtiyasaini4558@gmail.com   30  2.787822e+04\n",
       "4      amit saini      amitsaini388@gmail.com   28  1.225522e+04\n",
       "5    rakesh saini    rakeshsaini388@gmail.com   20  7.878742e+05\n",
       "6     mohit saini     mohitsaini388@gmail.com   31  1.488892e+05\n",
       "7    mayank saini    mayanksaini388@gmail.com   41  2.447879e+07"
      ]
     },
     "execution_count": 72,
     "metadata": {},
     "output_type": "execute_result"
    }
   ],
   "source": [
    "pd.read_sql(\"select * from person_table\",db)"
   ]
  },
  {
   "cell_type": "code",
   "execution_count": 77,
   "id": "5b131864",
   "metadata": {},
   "outputs": [
    {
     "name": "stdout",
     "output_type": "stream",
     "text": [
      " Volume in drive C has no label.\n",
      " Volume Serial Number is 389F-0762\n",
      "\n",
      " Directory of C:\\Users\\Yaksha\\Desktop\\abhi.cpp\\Untitled Folder\n",
      "\n",
      "10-01-2023  13:39    <DIR>          .\n",
      "10-01-2023  13:39    <DIR>          ..\n",
      "10-01-2023  00:09    <DIR>          .ipynb_checkpoints\n",
      "06-12-2022  00:16    <DIR>          __pycache__\n",
      "08-01-2023  00:00         4,407,102 19.3 MongoDB.7z\n",
      "10-01-2023  12:33             8,192 abhisheksaini_44\n",
      "29-12-2022  19:12           879,767 gamer.txt\n",
      "25-12-2022  17:23            11,903 glass.data\n",
      "10-01-2023  00:07             3,066 mongo1.ipynb\n",
      "09-01-2023  23:47            14,670 mongodb2.ipynb\n",
      "29-12-2022  19:08           875,693 movies.sql\n",
      "06-12-2022  00:16               283 my_module.py\n",
      "04-01-2023  19:25           102,584 mysql_1.ipynb\n",
      "29-12-2022  19:08            93,626 mysql_2.ipynb\n",
      "27-12-2022  21:28            24,252 MYSQLWORKSPACE_1.ipynb\n",
      "27-12-2022  23:44            11,381 MYSQLWORKSPACE_2.ipynb\n",
      "31-12-2022  00:52             1,007 NEW_RECORD_1.sql\n",
      "03-01-2023  11:15               339 NEW_RECORD_10.sql\n",
      "05-01-2023  22:55             1,441 NEW_RECORD_11.sql\n",
      "06-01-2023  10:58               318 NEW_RECORD_12.sql\n",
      "31-12-2022  19:23               367 NEW_RECORD_2.sql\n",
      "05-01-2023  19:05               249 NEW_RECORD_3.sql\n",
      "03-01-2023  19:17               718 NEW_RECORD_4.sql\n",
      "01-01-2023  15:37               339 NEW_RECORD_5.sql\n",
      "01-01-2023  17:15               229 NEW_RECORD_6.sql\n",
      "01-01-2023  23:58               502 NEW_RECORD_7.sql\n",
      "02-01-2023  00:15               166 NEW_RECORD_78.sql\n",
      "03-01-2023  00:13               405 NEW_RECORD_8.sql\n",
      "03-01-2023  11:00               260 NEW_RECORD_9.sql\n",
      "04-01-2023  19:41           121,143 order detail.csv\n",
      "04-01-2023  19:33           121,143 order detail.txt\n",
      "10-01-2023  13:38             8,192 person.db\n",
      "04-01-2023  20:59             3,014 product.csv\n",
      "10-01-2023  13:39            22,450 sqllite.ipynb\n",
      "03-01-2023  00:03           875,693 SWIGGY.SQL\n",
      "11-12-2022  11:39               609 test.log\n",
      "11-12-2022  11:31                 0 test.py\n",
      "05-12-2022  23:38                 0 test08.txt\n",
      "05-12-2022  23:45                99 test1.py\n",
      "05-12-2022  23:41                98 test1.txt\n",
      "08-01-2023  00:53            15,715 Untitled.ipynb\n",
      "10-01-2023  00:09            15,794 Untitled1.ipynb\n",
      "              38 File(s)      7,622,809 bytes\n",
      "               4 Dir(s)  18,817,818,624 bytes free\n"
     ]
    }
   ],
   "source": [
    "ls"
   ]
  },
  {
   "cell_type": "code",
   "execution_count": 79,
   "id": "196ced7d",
   "metadata": {},
   "outputs": [],
   "source": [
    "db=sqlite3.connect(\"person.db\")"
   ]
  },
  {
   "cell_type": "code",
   "execution_count": 81,
   "id": "419aee77",
   "metadata": {},
   "outputs": [],
   "source": [
    "b=db.cursor()"
   ]
  },
  {
   "cell_type": "code",
   "execution_count": 87,
   "id": "a00e6fe3",
   "metadata": {},
   "outputs": [],
   "source": [
    "data=b.execute(\"select name,email from person_table where name='abhishek saini'\")"
   ]
  },
  {
   "cell_type": "code",
   "execution_count": 89,
   "id": "0461f253",
   "metadata": {},
   "outputs": [],
   "source": [
    "for i in data:\n",
    "    print(i)"
   ]
  },
  {
   "cell_type": "code",
   "execution_count": 91,
   "id": "f54ba312",
   "metadata": {},
   "outputs": [],
   "source": [
    "db.close()"
   ]
  },
  {
   "cell_type": "code",
   "execution_count": 101,
   "id": "546e63d2",
   "metadata": {},
   "outputs": [],
   "source": [
    "db=sqlite3.connect(\"person.db\")"
   ]
  },
  {
   "cell_type": "code",
   "execution_count": 102,
   "id": "75088060",
   "metadata": {},
   "outputs": [],
   "source": [
    "c=db.cursor()"
   ]
  },
  {
   "cell_type": "code",
   "execution_count": 113,
   "id": "d3d1c5eb",
   "metadata": {},
   "outputs": [],
   "source": [
    "data=c.execute(\"select name,email from person_table order by name limit 3\")"
   ]
  },
  {
   "cell_type": "code",
   "execution_count": 1,
   "id": "9ff684a7",
   "metadata": {},
   "outputs": [
    {
     "ename": "NameError",
     "evalue": "name 'data' is not defined",
     "output_type": "error",
     "traceback": [
      "\u001b[1;31m---------------------------------------------------------------------------\u001b[0m",
      "\u001b[1;31mNameError\u001b[0m                                 Traceback (most recent call last)",
      "Input \u001b[1;32mIn [1]\u001b[0m, in \u001b[0;36m<cell line: 1>\u001b[1;34m()\u001b[0m\n\u001b[1;32m----> 1\u001b[0m \u001b[38;5;28;01mfor\u001b[39;00m i \u001b[38;5;129;01min\u001b[39;00m \u001b[43mdata\u001b[49m:\n\u001b[0;32m      2\u001b[0m     \u001b[38;5;28mprint\u001b[39m(i)\n",
      "\u001b[1;31mNameError\u001b[0m: name 'data' is not defined"
     ]
    }
   ],
   "source": [
    "for i in data:\n",
    "    print(i)"
   ]
  },
  {
   "cell_type": "code",
   "execution_count": 7,
   "id": "e66f4d4a",
   "metadata": {},
   "outputs": [],
   "source": [
    "l=[1,2,3,4,5]"
   ]
  },
  {
   "cell_type": "code",
   "execution_count": 14,
   "id": "3035928c",
   "metadata": {},
   "outputs": [],
   "source": [
    "def test(a):\n",
    "    return a**2"
   ]
  },
  {
   "cell_type": "code",
   "execution_count": 11,
   "id": "dcae6eec",
   "metadata": {},
   "outputs": [
    {
     "name": "stdout",
     "output_type": "stream",
     "text": [
      "6\n"
     ]
    }
   ],
   "source": [
    "a=test(1)\n",
    "print(a)"
   ]
  },
  {
   "cell_type": "code",
   "execution_count": 5,
   "id": "1b119ee1",
   "metadata": {},
   "outputs": [
    {
     "data": {
      "text/plain": [
       "[1, 4, 9, 16, 25]"
      ]
     },
     "execution_count": 5,
     "metadata": {},
     "output_type": "execute_result"
    }
   ],
   "source": [
    "l1=[]\n",
    "for i in l:\n",
    "    l1.append(i**2)\n",
    "l1"
   ]
  },
  {
   "cell_type": "code",
   "execution_count": 15,
   "id": "478fba12",
   "metadata": {},
   "outputs": [
    {
     "data": {
      "text/plain": [
       "[1, 4, 9, 16, 25]"
      ]
     },
     "execution_count": 15,
     "metadata": {},
     "output_type": "execute_result"
    }
   ],
   "source": [
    "list(map(test,l))"
   ]
  },
  {
   "cell_type": "code",
   "execution_count": 25,
   "id": "303149cc",
   "metadata": {},
   "outputs": [],
   "source": [
    "l1=[\"4545\",\"78787\",\"78787\"]"
   ]
  },
  {
   "cell_type": "code",
   "execution_count": 35,
   "id": "e09723e9",
   "metadata": {},
   "outputs": [],
   "source": [
    "def test(a):\n",
    "    d=int(a)\n",
    "    return d**2"
   ]
  },
  {
   "cell_type": "code",
   "execution_count": 37,
   "id": "54a69469",
   "metadata": {},
   "outputs": [
    {
     "data": {
      "text/plain": [
       "[20657025, 6207391369, 6207391369]"
      ]
     },
     "execution_count": 37,
     "metadata": {},
     "output_type": "execute_result"
    }
   ],
   "source": [
    "list(map(test,l1))"
   ]
  },
  {
   "cell_type": "code",
   "execution_count": 46,
   "id": "95cb7c53",
   "metadata": {},
   "outputs": [
    {
     "data": {
      "text/plain": [
       "[4545, 78787, 78787]"
      ]
     },
     "execution_count": 46,
     "metadata": {},
     "output_type": "execute_result"
    }
   ],
   "source": [
    "list(map(lambda x:int(x),l1))"
   ]
  },
  {
   "cell_type": "code",
   "execution_count": 48,
   "id": "bcab40e5",
   "metadata": {},
   "outputs": [],
   "source": [
    "l=[4,5,6,7,78,8,78]"
   ]
  },
  {
   "cell_type": "code",
   "execution_count": 54,
   "id": "344c28bc",
   "metadata": {},
   "outputs": [
    {
     "data": {
      "text/plain": [
       "[4, 6, 78, 8, 78]"
      ]
     },
     "execution_count": 54,
     "metadata": {},
     "output_type": "execute_result"
    }
   ],
   "source": [
    "l1=[]\n",
    "for i in l:\n",
    "    if i%2==0:\n",
    "        l1.append(i)\n",
    "l1      "
   ]
  },
  {
   "cell_type": "code",
   "execution_count": 76,
   "id": "6265e1b8",
   "metadata": {},
   "outputs": [],
   "source": [
    "def test1(a):\n",
    "        if a%2==0:\n",
    "            return a\n",
    "        "
   ]
  },
  {
   "cell_type": "code",
   "execution_count": 85,
   "id": "6d3cbfb3",
   "metadata": {},
   "outputs": [
    {
     "data": {
      "text/plain": [
       "[4, 6, 78, 8, 78]"
      ]
     },
     "execution_count": 85,
     "metadata": {},
     "output_type": "execute_result"
    }
   ],
   "source": [
    "list(filter(lambda x:x%2==0,l)) #beacuse map function has to failed sometime in opertion beacuse map is taken every element on the element"
   ]
  },
  {
   "cell_type": "code",
   "execution_count": 1,
   "id": "74474010",
   "metadata": {},
   "outputs": [
    {
     "ename": "NameError",
     "evalue": "name 'test1' is not defined",
     "output_type": "error",
     "traceback": [
      "\u001b[1;31m---------------------------------------------------------------------------\u001b[0m",
      "\u001b[1;31mNameError\u001b[0m                                 Traceback (most recent call last)",
      "Input \u001b[1;32mIn [1]\u001b[0m, in \u001b[0;36m<cell line: 1>\u001b[1;34m()\u001b[0m\n\u001b[1;32m----> 1\u001b[0m \u001b[38;5;28mlist\u001b[39m(\u001b[38;5;28mfilter\u001b[39m(\u001b[43mtest1\u001b[49m,l))\n",
      "\u001b[1;31mNameError\u001b[0m: name 'test1' is not defined"
     ]
    }
   ],
   "source": [
    "list(filter(test1,l))"
   ]
  },
  {
   "cell_type": "code",
   "execution_count": 9,
   "id": "1c6b348e",
   "metadata": {},
   "outputs": [],
   "source": [
    "from functools import reduce\n"
   ]
  },
  {
   "cell_type": "code",
   "execution_count": 29,
   "id": "fef30bae",
   "metadata": {},
   "outputs": [],
   "source": [
    "list_7=[1,2,3,4,5,6]"
   ]
  },
  {
   "cell_type": "code",
   "execution_count": 30,
   "id": "7e9b6346",
   "metadata": {},
   "outputs": [],
   "source": [
    "def test_7(a,b,c):\n",
    "    return a+b+c\n"
   ]
  },
  {
   "cell_type": "code",
   "execution_count": 31,
   "id": "0eb2a735",
   "metadata": {},
   "outputs": [
    {
     "ename": "TypeError",
     "evalue": "test_7() missing 1 required positional argument: 'c'",
     "output_type": "error",
     "traceback": [
      "\u001b[1;31m---------------------------------------------------------------------------\u001b[0m",
      "\u001b[1;31mTypeError\u001b[0m                                 Traceback (most recent call last)",
      "Input \u001b[1;32mIn [31]\u001b[0m, in \u001b[0;36m<cell line: 1>\u001b[1;34m()\u001b[0m\n\u001b[1;32m----> 1\u001b[0m \u001b[43mreduce\u001b[49m\u001b[43m(\u001b[49m\u001b[43mtest_7\u001b[49m\u001b[43m,\u001b[49m\u001b[43mlist_7\u001b[49m\u001b[43m)\u001b[49m\n",
      "\u001b[1;31mTypeError\u001b[0m: test_7() missing 1 required positional argument: 'c'"
     ]
    }
   ],
   "source": [
    "reduce(test_7,list_7)"
   ]
  },
  {
   "cell_type": "code",
   "execution_count": 51,
   "id": "15749fbf",
   "metadata": {},
   "outputs": [],
   "source": [
    "list_8=[4,5,65,7]"
   ]
  },
  {
   "cell_type": "code",
   "execution_count": 53,
   "id": "9bad9846",
   "metadata": {},
   "outputs": [
    {
     "data": {
      "text/plain": [
       "[(1, 4), (2, 5), (3, 65), (4, 7)]"
      ]
     },
     "execution_count": 53,
     "metadata": {},
     "output_type": "execute_result"
    }
   ],
   "source": [
    "list(zip(list_7,list_8))"
   ]
  }
 ],
 "metadata": {
  "kernelspec": {
   "display_name": "Python 3 (ipykernel)",
   "language": "python",
   "name": "python3"
  },
  "language_info": {
   "codemirror_mode": {
    "name": "ipython",
    "version": 3
   },
   "file_extension": ".py",
   "mimetype": "text/x-python",
   "name": "python",
   "nbconvert_exporter": "python",
   "pygments_lexer": "ipython3",
   "version": "3.9.12"
  }
 },
 "nbformat": 4,
 "nbformat_minor": 5
}
